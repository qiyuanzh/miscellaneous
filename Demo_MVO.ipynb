{
 "cells": [
  {
   "cell_type": "code",
   "execution_count": 1,
   "metadata": {},
   "outputs": [
    {
     "name": "stderr",
     "output_type": "stream",
     "text": [
      "//anaconda/lib/python3.5/site-packages/statsmodels/compat/pandas.py:56: FutureWarning: The pandas.core.datetools module is deprecated and will be removed in a future version. Please use the pandas.tseries module instead.\n",
      "  from pandas.core import datetools\n"
     ]
    }
   ],
   "source": [
    "import pandas as pd\n",
    "import matplotlib.pyplot as plt\n",
    "import seaborn as sns\n",
    "import numpy as np\n",
    "import statsmodels.api as sm\n",
    "from scipy import optimize\n",
    "import matplotlib \n",
    "\n",
    "%matplotlib inline "
   ]
  },
  {
   "cell_type": "code",
   "execution_count": 6,
   "metadata": {},
   "outputs": [],
   "source": [
    "asset_ret= pd.read_excel( 'ret_cov.xlsx', sheet_name= 'Return', index_col= 0, header=None).astype(float)\n",
    "asset_ret= asset_ret.iloc[:, 0]\n",
    "asset_ret.name= 'Return'\n",
    "asset_ret.index.name= 'Asset'\n",
    "asset_cov= pd.read_excel( 'ret_cov.xlsx', sheet_name= 'Cov', index_col=0, header= 0).astype(float)"
   ]
  },
  {
   "cell_type": "code",
   "execution_count": 7,
   "metadata": {},
   "outputs": [
    {
     "data": {
      "text/plain": [
       "Asset\n",
       "EEM           -0.260481\n",
       "EFA           -0.169746\n",
       "HYG           -0.076114\n",
       "USO            0.311453\n",
       "IAU            0.012500\n",
       "SOYB           0.159935\n",
       "VNQ           -0.244119\n",
       "equity_bask   -0.215087\n",
       "Name: Return, dtype: float64"
      ]
     },
     "execution_count": 7,
     "metadata": {},
     "output_type": "execute_result"
    }
   ],
   "source": [
    "asset_ret"
   ]
  },
  {
   "cell_type": "code",
   "execution_count": 8,
   "metadata": {},
   "outputs": [
    {
     "data": {
      "text/html": [
       "<div>\n",
       "<style scoped>\n",
       "    .dataframe tbody tr th:only-of-type {\n",
       "        vertical-align: middle;\n",
       "    }\n",
       "\n",
       "    .dataframe tbody tr th {\n",
       "        vertical-align: top;\n",
       "    }\n",
       "\n",
       "    .dataframe thead th {\n",
       "        text-align: right;\n",
       "    }\n",
       "</style>\n",
       "<table border=\"1\" class=\"dataframe\">\n",
       "  <thead>\n",
       "    <tr style=\"text-align: right;\">\n",
       "      <th></th>\n",
       "      <th>EEM</th>\n",
       "      <th>EFA</th>\n",
       "      <th>HYG</th>\n",
       "      <th>USO</th>\n",
       "      <th>IAU</th>\n",
       "      <th>SOYB</th>\n",
       "      <th>VNQ</th>\n",
       "      <th>equity_bask</th>\n",
       "    </tr>\n",
       "    <tr>\n",
       "      <th>Asset</th>\n",
       "      <th></th>\n",
       "      <th></th>\n",
       "      <th></th>\n",
       "      <th></th>\n",
       "      <th></th>\n",
       "      <th></th>\n",
       "      <th></th>\n",
       "      <th></th>\n",
       "    </tr>\n",
       "  </thead>\n",
       "  <tbody>\n",
       "    <tr>\n",
       "      <th>EEM</th>\n",
       "      <td>0.020728</td>\n",
       "      <td>0.010967</td>\n",
       "      <td>0.003591</td>\n",
       "      <td>0.002934</td>\n",
       "      <td>0.007230</td>\n",
       "      <td>-0.004031</td>\n",
       "      <td>0.010706</td>\n",
       "      <td>0.009355</td>\n",
       "    </tr>\n",
       "    <tr>\n",
       "      <th>EFA</th>\n",
       "      <td>0.010967</td>\n",
       "      <td>0.011653</td>\n",
       "      <td>0.002525</td>\n",
       "      <td>0.015091</td>\n",
       "      <td>-0.000635</td>\n",
       "      <td>-0.005479</td>\n",
       "      <td>0.010187</td>\n",
       "      <td>0.013283</td>\n",
       "    </tr>\n",
       "    <tr>\n",
       "      <th>HYG</th>\n",
       "      <td>0.003591</td>\n",
       "      <td>0.002525</td>\n",
       "      <td>0.001568</td>\n",
       "      <td>-0.001790</td>\n",
       "      <td>-0.000164</td>\n",
       "      <td>-0.000643</td>\n",
       "      <td>0.006164</td>\n",
       "      <td>0.002907</td>\n",
       "    </tr>\n",
       "    <tr>\n",
       "      <th>USO</th>\n",
       "      <td>0.002934</td>\n",
       "      <td>0.015091</td>\n",
       "      <td>-0.001790</td>\n",
       "      <td>0.087967</td>\n",
       "      <td>-0.001554</td>\n",
       "      <td>-0.003753</td>\n",
       "      <td>-0.007435</td>\n",
       "      <td>0.020453</td>\n",
       "    </tr>\n",
       "    <tr>\n",
       "      <th>IAU</th>\n",
       "      <td>0.007230</td>\n",
       "      <td>-0.000635</td>\n",
       "      <td>-0.000164</td>\n",
       "      <td>-0.001554</td>\n",
       "      <td>0.013980</td>\n",
       "      <td>-0.001150</td>\n",
       "      <td>-0.007282</td>\n",
       "      <td>-0.005549</td>\n",
       "    </tr>\n",
       "    <tr>\n",
       "      <th>SOYB</th>\n",
       "      <td>-0.004031</td>\n",
       "      <td>-0.005479</td>\n",
       "      <td>-0.000643</td>\n",
       "      <td>-0.003753</td>\n",
       "      <td>-0.001150</td>\n",
       "      <td>0.015531</td>\n",
       "      <td>-0.006119</td>\n",
       "      <td>-0.008038</td>\n",
       "    </tr>\n",
       "    <tr>\n",
       "      <th>VNQ</th>\n",
       "      <td>0.010706</td>\n",
       "      <td>0.010187</td>\n",
       "      <td>0.006164</td>\n",
       "      <td>-0.007435</td>\n",
       "      <td>-0.007282</td>\n",
       "      <td>-0.006119</td>\n",
       "      <td>0.044217</td>\n",
       "      <td>0.018621</td>\n",
       "    </tr>\n",
       "    <tr>\n",
       "      <th>equity_bask</th>\n",
       "      <td>0.009355</td>\n",
       "      <td>0.013283</td>\n",
       "      <td>0.002907</td>\n",
       "      <td>0.020453</td>\n",
       "      <td>-0.005549</td>\n",
       "      <td>-0.008038</td>\n",
       "      <td>0.018621</td>\n",
       "      <td>0.019806</td>\n",
       "    </tr>\n",
       "  </tbody>\n",
       "</table>\n",
       "</div>"
      ],
      "text/plain": [
       "                  EEM       EFA       HYG       USO       IAU      SOYB  \\\n",
       "Asset                                                                     \n",
       "EEM          0.020728  0.010967  0.003591  0.002934  0.007230 -0.004031   \n",
       "EFA          0.010967  0.011653  0.002525  0.015091 -0.000635 -0.005479   \n",
       "HYG          0.003591  0.002525  0.001568 -0.001790 -0.000164 -0.000643   \n",
       "USO          0.002934  0.015091 -0.001790  0.087967 -0.001554 -0.003753   \n",
       "IAU          0.007230 -0.000635 -0.000164 -0.001554  0.013980 -0.001150   \n",
       "SOYB        -0.004031 -0.005479 -0.000643 -0.003753 -0.001150  0.015531   \n",
       "VNQ          0.010706  0.010187  0.006164 -0.007435 -0.007282 -0.006119   \n",
       "equity_bask  0.009355  0.013283  0.002907  0.020453 -0.005549 -0.008038   \n",
       "\n",
       "                  VNQ  equity_bask  \n",
       "Asset                               \n",
       "EEM          0.010706     0.009355  \n",
       "EFA          0.010187     0.013283  \n",
       "HYG          0.006164     0.002907  \n",
       "USO         -0.007435     0.020453  \n",
       "IAU         -0.007282    -0.005549  \n",
       "SOYB        -0.006119    -0.008038  \n",
       "VNQ          0.044217     0.018621  \n",
       "equity_bask  0.018621     0.019806  "
      ]
     },
     "execution_count": 8,
     "metadata": {},
     "output_type": "execute_result"
    }
   ],
   "source": [
    "asset_cov"
   ]
  },
  {
   "cell_type": "code",
   "execution_count": null,
   "metadata": {},
   "outputs": [],
   "source": []
  },
  {
   "cell_type": "code",
   "execution_count": null,
   "metadata": {},
   "outputs": [],
   "source": []
  },
  {
   "cell_type": "code",
   "execution_count": 10,
   "metadata": {},
   "outputs": [
    {
     "data": {
      "text/plain": [
       "Asset\n",
       "EEM            0.143972\n",
       "EFA            0.107951\n",
       "HYG            0.039602\n",
       "USO            0.296592\n",
       "IAU            0.118238\n",
       "SOYB           0.124622\n",
       "VNQ            0.210279\n",
       "equity_bask    0.140733\n",
       "dtype: float64"
      ]
     },
     "execution_count": 10,
     "metadata": {},
     "output_type": "execute_result"
    }
   ],
   "source": [
    "asset_vol= np.sqrt(np.diag( asset_cov))\n",
    "asset_vol= pd.Series( asset_vol, index= asset_cov.index)\n",
    "asset_vol"
   ]
  },
  {
   "cell_type": "code",
   "execution_count": 14,
   "metadata": {},
   "outputs": [],
   "source": [
    "### optimization\n",
    "### min -1* ret\n",
    "### Constrain: 1. volatility<= risk budget (5% Annual)\n",
    "### 2. fully invested \n",
    "### 3. long only \n",
    "### 4. no asset weight>= 40%\n",
    "\n",
    "\n",
    "def obj_func (weight): \n",
    "    '''\n",
    "    weight: pd Series, asset weight\n",
    "    \n",
    "    RETURN: float, Portfolio Return (Minus)\n",
    "    '''\n",
    "    return -1* (weight*asset_ret).sum()\n",
    "\n",
    "def obj_func_jac ( weight): \n",
    "    '''\n",
    "    weight: pd Series, asset weight\n",
    "    \n",
    "    RETURN: np array, obj_func derivatives, \n",
    "    '''\n",
    "    \n",
    "    return -1* asset_ret.values.flatten()\n",
    "\n",
    "def constr_0 (weight):\n",
    "    '''\n",
    "    weight: pd Series, asset weight\n",
    "    \n",
    "    RETURN: float, portfolio volatility (Annual)\n",
    "    '''\n",
    "    \n",
    "    return 0.05- np.sqrt( np.dot( weight, np.dot( asset_cov, weight)))\n",
    "\n",
    "\n",
    "def constr_0_jac( weight):\n",
    "    '''\n",
    "    weight: pd Series, asset weight, \n",
    "    cov: pd df, asset cov (Annual)\n",
    "    \n",
    "    RETURN: np array, constr_0 derivatives\n",
    "    '''\n",
    "    \n",
    "    return  -1* np.dot( asset_cov, weight).flatten()\n",
    "\n",
    "\n",
    "\n",
    "def constr_1( weight ):\n",
    "    '''\n",
    "    weight: pd Series, weight\n",
    "    \n",
    "    RETURN: float, weight sum\n",
    "    '''\n",
    "    \n",
    "    return weight.sum()-1\n",
    "\n",
    "def constr_1_jac( weight): \n",
    "    '''\n",
    "    weight: pd Series, weight\n",
    "    \n",
    "    RETURN: np array, weight derivative\n",
    "    '''\n",
    "    \n",
    "    return np.ones( weight.shape[0]).flatten()"
   ]
  },
  {
   "cell_type": "code",
   "execution_count": 19,
   "metadata": {},
   "outputs": [
    {
     "name": "stdout",
     "output_type": "stream",
     "text": [
      "Iteration limit exceeded    (Exit mode 9)\n",
      "            Current function value: -0.05628198332401529\n",
      "            Iterations: 101\n",
      "            Function evaluations: 217\n",
      "            Gradient evaluations: 101\n"
     ]
    }
   ],
   "source": [
    "bound_low= 0\n",
    "bound_high= 0.4\n",
    "\n",
    "opt= optimize.minimize( fun= obj_func, jac= obj_func_jac, \n",
    "                       x0 = np.ones( asset_cov.shape[0]).flatten()* 1/asset_cov.shape[0] ,\n",
    "                       constraints= ({'type': 'ineq', 'fun': constr_0, 'jac': constr_0_jac}, \n",
    "                                    {'type': 'eq', 'fun': constr_1, 'jac': constr_1_jac}),\n",
    "                       method='SLSQP',\n",
    "                       bounds= [[bound_low, bound_high]]* asset_cov.shape[0],\n",
    "                       options= {'disp':True}\n",
    "                      )"
   ]
  },
  {
   "cell_type": "code",
   "execution_count": 21,
   "metadata": {},
   "outputs": [
    {
     "data": {
      "text/plain": [
       "5.707578636699416e-18"
      ]
     },
     "execution_count": 21,
     "metadata": {},
     "output_type": "execute_result"
    }
   ],
   "source": [
    "np.linalg.det(asset_cov)"
   ]
  },
  {
   "cell_type": "code",
   "execution_count": null,
   "metadata": {},
   "outputs": [],
   "source": []
  }
 ],
 "metadata": {
  "kernelspec": {
   "display_name": "Python 3",
   "language": "python",
   "name": "python3"
  },
  "language_info": {
   "codemirror_mode": {
    "name": "ipython",
    "version": 3
   },
   "file_extension": ".py",
   "mimetype": "text/x-python",
   "name": "python",
   "nbconvert_exporter": "python",
   "pygments_lexer": "ipython3",
   "version": "3.5.4"
  }
 },
 "nbformat": 4,
 "nbformat_minor": 2
}
